{
 "cells": [
  {
   "cell_type": "markdown",
   "metadata": {},
   "source": [
    "# Алгоритмы интеллектуальной обработки больших объемов данных\n",
    "## Домашнее задание №4 - Метод k-средних, предобработка признаков\n"
   ]
  },
  {
   "cell_type": "markdown",
   "metadata": {},
   "source": [
    "###### <hr\\>\n",
    "**Общая информация**\n",
    "\n",
    "**Срок сдачи:** 25 апреля 2018, 06:00 <br\\>\n",
    "**Штраф за опоздание:** -2 балла после 06:00 25 апреля, -4 баллов после 06:00 2 мая, -6 баллов после 06:00 9 мая\n",
    "\n",
    "При отправлении ДЗ указывайте фамилию в названии файла<br\\>\n",
    "\n",
    "Используйте данный Ipython Notebook при оформлении домашнего задания.\n",
    "\n",
    "**Штрафные баллы:**\n",
    "\n",
    "1. Невыполнение PEP8 -1 балл\n",
    "2. Отсутствие фамилии в имени скрипта (скрипт должен называться по аналогии со stroykova_hw4.ipynb) -1 балл\n",
    "3. Все строчки должны быть выполнены. Нужно, чтобы output команды можно было увидеть уже в git'е. В противном случае -1 балл\n",
    "4. При оформлении ДЗ нужно пользоваться данным файлом в качестве шаблона. Не нужно удалять и видоизменять написанный код и текст. В противном случае -1 балл\n",
    "<hr\\>"
   ]
  },
  {
   "cell_type": "code",
   "execution_count": 1,
   "metadata": {},
   "outputs": [],
   "source": [
    "import pandas as pd\n",
    "import numpy as np\n",
    "import matplotlib.pyplot as plt\n",
    "\n",
    "%matplotlib inline\n",
    "\n",
    "plt.style.use('ggplot')\n",
    "plt.rcParams['figure.figsize'] = (12,5)\n",
    "\n",
    "%load_ext pycodestyle_magic"
   ]
  },
  {
   "cell_type": "markdown",
   "metadata": {},
   "source": [
    "# Имплементация K-means\n",
    "\n",
    "Пользуясь наработками выше, имплементируйте метод k-means.  \n",
    "При инициализации необходимо задавать количество кластеров, функцию расстояния между кластерами (для оригинального k-means - евклидово расстояние) и начальное состояние генератора случайных чисел.\n",
    "\n",
    "После обучения, среди атрибутов класса `Kmeans` должны появится\n",
    "* Метки кластеров для объектов\n",
    "* Координаты центройдов кластеров\n",
    "\n",
    "k-means - это алгоритм **кластеризации**, а не классификации, а посему метод `.predict()` в нем фактически не нужен, но он может возвращать метки ближайшего кластера для объектов."
   ]
  },
  {
   "cell_type": "markdown",
   "metadata": {},
   "source": [
    "###### Задание 1 (2 баллов)\n",
    "Имплементируйте метод k-means. Задание считается выполненным, если Ваша реализация работает быстрее реализации из sklearn.\n",
    "\n",
    "Теория для выполнения задания 2 и 3 остаётся на самостоятельное изучение. Теории немного и она совсем простая.\n",
    "\n",
    "###### Задание 2 (2 балла)\n",
    "Имплементируйте класс MiniBatchKMeans, который является классом наследником Kmeans.\n",
    "\n",
    "###### Задание 3 (2 балла)\n",
    "Превратите k-means в k-means++. Для этого нужно реализовать метод в классе Kmeans, который будет инициализировать более \"хорошие\" значения центроидов. Чтобы использовался метод k-means++, в параметр init необходимо передать строковое значение 'k-means' (по умолчанию 'random').\n",
    "\n",
    "###### Задание 4 (2 балла)\n",
    "В пункте \"Проверка корректности метода\" нужно нарисовать графики, которые показывают зависимость времени выполнения алгоритма от количества сэмплов. Графики должны быть  нарисованы для различных комбинаций реализаций алгоритма (k-means, k-means++, k-means с MiniBatchKMeans, k-means++ с MiniBatchKMeans). График достаточно построить на 5-10 точках.\n",
    "\n",
    "###### Задание 5 (2 балла)\n",
    "В пункте \"Применение K-means на реальных данных\" нужно сравнить различные реализации k-means (k-means, k-means++, k-means с MiniBatchKMeans, k-means++ с MiniBatchKMeans). После чего написать вывод, в котором должно быть объяснение того, почему один алгоритм оказался лучше остальных или почему не было выявлено лучшего алгоритма."
   ]
  },
  {
   "cell_type": "code",
   "execution_count": 2,
   "metadata": {},
   "outputs": [],
   "source": [
    "%%pycodestyle\n",
    "\n",
    "\n",
    "class MyKmeans:\n",
    "    def __init__(self, k=2, metric='euclidean', max_iter=1000,\n",
    "                 random_state=None, init='random'):\n",
    "        \"\"\"\n",
    "        Инициализация метода\n",
    "        :k - количество кластеров\n",
    "        :metric - функция расстояния между объектами\n",
    "        :max_iter - максиальное количество итераций\n",
    "        :random_state - seed для инициализации генератора случайных чисел\n",
    "        \"\"\"\n",
    "\n",
    "        self.k = k\n",
    "        self.random_state = random_state\n",
    "        self.metric = metric\n",
    "        self.max_iter = max_iter\n",
    "        self.init = init\n",
    "\n",
    "        if self.metric == 'euclidean':\n",
    "            self.pwdistance = self._euc_dist\n",
    "            self.simpledistance = self._simple_euc_dist\n",
    "\n",
    "    def _euc_dist(self, X, centroids):\n",
    "        return np.sqrt(np.sum((centroids[None, :] - X[:, None])**2, -1))\n",
    "\n",
    "    def _simple_euc_dist(self, X, centroids, n):\n",
    "        return np.sqrt(np.sum((X - centroids[n, :]) ** 2, axis=1))\n",
    "\n",
    "    def fit(self, X, y=None):\n",
    "        \"\"\"\n",
    "        Процедура обучения k-means\n",
    "        \"\"\"\n",
    "\n",
    "        # Инициализация генератора случайных чисел\n",
    "        np.random.seed(self.random_state)\n",
    "\n",
    "        # Массив с метками кластеров для каждого объекта из X\n",
    "        self.labels = np.empty(X.shape[0], np.uint8)\n",
    "\n",
    "        # Массив с центройдами кластеров\n",
    "        self.centroids = np.empty((self.k, X.shape[1]))\n",
    "        newcentroids = np.empty((self.k, X.shape[1]))\n",
    "\n",
    "        # Your Code Here\n",
    "        # ...\n",
    "\n",
    "        if self.init == 'random':\n",
    "            # Random centroids init\n",
    "            self.centroids = np.copy(X)\n",
    "            np.random.shuffle(self.centroids)\n",
    "            self.centroids = self.centroids[:self.k, :]\n",
    "        if self.init == 'k-means':\n",
    "            # k-means++ init\n",
    "            self.centroids = np.empty((self.k, X.shape[1]))\n",
    "            self.centroids[0, :] = X[np.random.randint(0, X.shape[0]), :]\n",
    "            for i in range(1, self.k):\n",
    "                dist = np.empty((self.k, X.shape[0]))\n",
    "                for j in range(self.k):\n",
    "                    dist[j, :] = self.simpledistance(X, self.centroids, j)\n",
    "                dist = np.min(dist, axis=0)\n",
    "                dist = np.cumsum(dist / np.sum(dist))\n",
    "                pos = np.random.sample()\n",
    "                self.centroids[i, :] = X[dist[dist < pos].size, :]\n",
    "\n",
    "        # Break conditions\n",
    "        trig = True\n",
    "        iters = 0\n",
    "\n",
    "        # Algorithm\n",
    "        while trig and (iters < self.max_iter):\n",
    "            trig = False\n",
    "\n",
    "            # Labeling\n",
    "            pwd = self.pwdistance(X, self.centroids)\n",
    "            self.labels = np.argsort(pwd, axis=1)[:, 0]\n",
    "\n",
    "            # Counting new centroids\n",
    "            for i in range(self.k):\n",
    "                ithcluster = X[self.labels == i]\n",
    "                newcentroids[i] = np.sum(ithcluster, axis=0)\n",
    "                newcentroids[i] /= ithcluster.shape[0]\n",
    "                if not trig:\n",
    "                    if np.sum((newcentroids[i] - self.centroids[i])**2) > 0.:\n",
    "                        trig = True\n",
    "\n",
    "            # Refreshing centroids\n",
    "            self.centroids = newcentroids\n",
    "\n",
    "            iters += 1\n",
    "\n",
    "        return self\n",
    "\n",
    "    def predict(self, X, y=None):\n",
    "        \"\"\"\n",
    "        Процедура предсказания кластера\n",
    "\n",
    "        Возвращает метку ближайшего кластера для каждого объекта\n",
    "        \"\"\"\n",
    "        pwd = self.pwdistance(X, self.centroids)\n",
    "        labels = np.argsort(pwd, axis=1)[:, 0]\n",
    "\n",
    "        return labels\n",
    "\n",
    "\n",
    "class MiniBatchKMeans(MyKmeans):\n",
    "    def __init__(self, k=2, metric='euclidean', max_iter=1000,\n",
    "                 random_state=None, init='random', batch_size=16):\n",
    "        \"\"\"\n",
    "        Инициализация метода\n",
    "        :k - количество кластеров\n",
    "        :metric - функция расстояния между объектами\n",
    "        :max_iter - максиальное количество итераций\n",
    "        :random_state - seed для инициализации генератора случайных чисел\n",
    "        :batch_size - размер батча\n",
    "        \"\"\"\n",
    "\n",
    "        self.k = k\n",
    "        self.random_state = random_state\n",
    "        self.metric = metric\n",
    "        self.max_iter = max_iter\n",
    "        self.init = init\n",
    "        self.batch_size = batch_size\n",
    "\n",
    "        if self.metric == 'euclidean':\n",
    "            self.pwdistance = self._euc_dist\n",
    "            self.simpledistance = self._simple_euc_dist\n",
    "\n",
    "    def _euc_dist(self, X, centroids):\n",
    "        return np.sqrt(np.sum((centroids[None, :] - X[:, None])**2, -1))\n",
    "\n",
    "    def _simple_euc_dist(self, X, centroids, n):\n",
    "        return np.sqrt(np.sum((X - centroids[n, :]) ** 2, axis=1))\n",
    "\n",
    "    def fit(self, X, y=None):\n",
    "        \"\"\"\n",
    "        Процедура обучения k-means\n",
    "        \"\"\"\n",
    "\n",
    "        # Инициализация генератора случайных чисел\n",
    "        np.random.seed(self.random_state)\n",
    "\n",
    "        # Массив с метками кластеров для каждого объекта из X\n",
    "        self.labels = np.empty(X.shape[0], np.uint8)\n",
    "\n",
    "        # Массив с центройдами кластеров\n",
    "        self.centroids = np.empty((self.k, X.shape[1]))\n",
    "        newcentroids = np.empty((self.k, X.shape[1]))\n",
    "\n",
    "        # Your Code Here\n",
    "        # ...\n",
    "\n",
    "        if self.init == 'random':\n",
    "            # Random centroids init\n",
    "            self.centroids = np.copy(X)\n",
    "            np.random.shuffle(self.centroids)\n",
    "            self.centroids = self.centroids[:self.k, :]\n",
    "        if self.init == 'k-means':\n",
    "            # k-means++ init\n",
    "            self.centroids = np.empty((self.k, X.shape[1]))\n",
    "            self.centroids[0, :] = X[np.random.randint(0, X.shape[0]), :]\n",
    "            for i in range(1, self.k):\n",
    "                dist = np.empty((self.k, X.shape[0]))\n",
    "                for j in range(self.k):\n",
    "                    dist[j, :] = self.simpledistance(X, self.centroids, j)\n",
    "                dist = np.min(dist, axis=0)\n",
    "                dist = np.cumsum(dist / np.sum(dist))\n",
    "                pos = np.random.sample()\n",
    "                self.centroids[i, :] = X[dist[dist < pos].size, :]\n",
    "\n",
    "        # Break conditions\n",
    "        trig = True\n",
    "        iters = 0\n",
    "\n",
    "        # Algorithm\n",
    "        while trig and (iters < self.max_iter):\n",
    "            trig = False\n",
    "\n",
    "            # Masking batch\n",
    "            batch_mask = np.random.choice(np.arange(X.shape[0]),\n",
    "                                          self.batch_size)\n",
    "\n",
    "            # Labeling\n",
    "            pwd = self.pwdistance(X[batch_mask, :], self.centroids)\n",
    "            self.labels[batch_mask] = np.argsort(pwd, axis=1)[:, 0]\n",
    "\n",
    "            # Counting new centroids\n",
    "            for i in range(self.k):\n",
    "                ithcluster = X[batch_mask][self.labels[batch_mask] == i]\n",
    "                newcentroids[i] = np.sum(ithcluster, axis=0)\n",
    "                newcentroids[i] /= ithcluster.shape[0]\n",
    "                if not trig:\n",
    "                    if np.sum((newcentroids[i] - self.centroids[i])**2) > 0.:\n",
    "                        trig = True\n",
    "\n",
    "            # Refreshing centroids\n",
    "            self.centroids = newcentroids\n",
    "\n",
    "            iters += 1\n",
    "\n",
    "        return self\n"
   ]
  },
  {
   "cell_type": "markdown",
   "metadata": {},
   "source": [
    "### Проверка корректности метода\n",
    "\n",
    "Перед тем как применять алгоритм на реальных данных, нужно испытать его на простых \"игрушечных\" данных.\n",
    "\n",
    "Если алгоритм реализован правильно, то метод должен идеально разбивать на 3 кластера данные ниже. Проверьте это.\n",
    "\n",
    "ВНИМАНИЕ! Проверка должна быть осуществлена на всех реализациях, иначе реализация не будет зачтена!"
   ]
  },
  {
   "cell_type": "code",
   "execution_count": 3,
   "metadata": {},
   "outputs": [],
   "source": [
    "from sklearn.datasets import make_blobs\n"
   ]
  },
  {
   "cell_type": "code",
   "execution_count": 4,
   "metadata": {},
   "outputs": [],
   "source": [
    "X, y = make_blobs(n_samples=100, n_features=2, centers=3, cluster_std=1, \n",
    "           center_box=(-10.0, 10.0), shuffle=False, random_state=1234)\n"
   ]
  },
  {
   "cell_type": "code",
   "execution_count": 5,
   "metadata": {},
   "outputs": [
    {
     "data": {
      "text/plain": [
       "<matplotlib.collections.PathCollection at 0x7f24c06f34d0>"
      ]
     },
     "execution_count": 5,
     "metadata": {},
     "output_type": "execute_result"
    },
    {
     "data": {
      "image/png": "[encoded data removed]",
      "text/plain": [
       "<Figure size 432x288 with 1 Axes>"
      ]
     },
     "metadata": {},
     "output_type": "display_data"
    }
   ],
   "source": [
    "plt.scatter(X[:,0], X[:, 1], c=y)\n"
   ]
  },
  {
   "cell_type": "markdown",
   "metadata": {},
   "source": [
    "Проверьте Вашу имплементацию на простых данных (без этого пункта ДЗ не считается выполненным).   \n",
    "КОММЕНТАРИИ НЕ СТИРАТЬ!"
   ]
  },
  {
   "cell_type": "code",
   "execution_count": 6,
   "metadata": {},
   "outputs": [
    {
     "data": {
      "text/plain": [
       "<matplotlib.collections.PathCollection at 0x7f24c063f310>"
      ]
     },
     "execution_count": 6,
     "metadata": {},
     "output_type": "execute_result"
    },
    {
     "data": {
      "image/png": "[encoded data removed]",
      "text/plain": [
       "<Figure size 432x288 with 1 Axes>"
      ]
     },
     "metadata": {},
     "output_type": "display_data"
    }
   ],
   "source": [
    "## Работоспособность MyKmeans\n",
    "km = MyKmeans(k=3)\n",
    "km.fit(X)\n",
    "y_pred = km.predict(X)\n",
    "plt.scatter(X[:,0], X[:, 1], c=y_pred)\n",
    "plt.scatter(km.centroids[:, 0], km.centroids[:, 1])\n"
   ]
  },
  {
   "cell_type": "code",
   "execution_count": 7,
   "metadata": {},
   "outputs": [
    {
     "data": {
      "text/plain": [
       "<matplotlib.collections.PathCollection at 0x7f24cc17d3d0>"
      ]
     },
     "execution_count": 7,
     "metadata": {},
     "output_type": "execute_result"
    },
    {
     "data": {
      "image/png": "[encoded data removed]",
      "text/plain": [
       "<Figure size 432x288 with 1 Axes>"
      ]
     },
     "metadata": {},
     "output_type": "display_data"
    }
   ],
   "source": [
    "## Работоспособность MyKmeans++\n",
    "km = MyKmeans(k=3, init='k-means')\n",
    "km.fit(X)\n",
    "y_pred = km.predict(X)\n",
    "plt.scatter(X[:,0], X[:, 1], c=y_pred)\n",
    "plt.scatter(km.centroids[:, 0], km.centroids[:, 1])\n"
   ]
  },
  {
   "cell_type": "code",
   "execution_count": 8,
   "metadata": {},
   "outputs": [
    {
     "data": {
      "text/plain": [
       "<matplotlib.collections.PathCollection at 0x7f24cc17dd90>"
      ]
     },
     "execution_count": 8,
     "metadata": {},
     "output_type": "execute_result"
    },
    {
     "data": {
      "image/png": "[encoded data removed]",
      "text/plain": [
       "<Figure size 432x288 with 1 Axes>"
      ]
     },
     "metadata": {},
     "output_type": "display_data"
    }
   ],
   "source": [
    "## Работоспособность MyKmeans с MiniBatchMyKmeans\n",
    "km = MiniBatchKMeans(k=3)\n",
    "km.fit(X)\n",
    "y_pred = km.predict(X)\n",
    "plt.scatter(X[:,0], X[:, 1], c=y_pred)\n",
    "plt.scatter(km.centroids[:, 0], km.centroids[:, 1])\n"
   ]
  },
  {
   "cell_type": "code",
   "execution_count": 9,
   "metadata": {},
   "outputs": [
    {
     "name": "stderr",
     "output_type": "stream",
     "text": [
      "/usr/local/lib/python2.7/dist-packages/ipykernel_launcher.py:134: RuntimeWarning: overflow encountered in square\n"
     ]
    },
    {
     "data": {
      "text/plain": [
       "<matplotlib.collections.PathCollection at 0x7f24c046f850>"
      ]
     },
     "execution_count": 9,
     "metadata": {},
     "output_type": "execute_result"
    },
    {
     "data": {
      "image/png": "[encoded data removed]",
      "text/plain": [
       "<Figure size 432x288 with 1 Axes>"
      ]
     },
     "metadata": {},
     "output_type": "display_data"
    }
   ],
   "source": [
    "## Работоспособность MyKmeans++ с MiniBatchMyKmeans\n",
    "km = MiniBatchKMeans(k=3, init='k-means')\n",
    "km.fit(X)\n",
    "y_pred = km.predict(X)\n",
    "plt.scatter(X[:,0], X[:, 1], c=y_pred)\n",
    "plt.scatter(km.centroids[:, 0], km.centroids[:, 1])\n"
   ]
  },
  {
   "cell_type": "code",
   "execution_count": 10,
   "metadata": {},
   "outputs": [
    {
     "data": {
      "text/plain": [
       "Text(0,0.5,'time')"
      ]
     },
     "execution_count": 10,
     "metadata": {},
     "output_type": "execute_result"
    },
    {
     "data": {
      "image/png": "[encoded data removed]",
      "text/plain": [
       "<Figure size 432x288 with 1 Axes>"
      ]
     },
     "metadata": {},
     "output_type": "display_data"
    }
   ],
   "source": [
    "## Время выполнения алгоритма Kmeans из sklearn\n",
    "import time\n",
    "from sklearn.cluster import KMeans\n",
    "sizes = [500, 1000, 2000, 4000, 8000, 16000, 32000, 64000]\n",
    "t1 = np.empty(len(sizes))\n",
    "for i, s in enumerate(sizes):\n",
    "    X, y = make_blobs(n_samples=s, n_features=2, centers=3, cluster_std=1, \n",
    "           center_box=(-10.0, 10.0), shuffle=False, random_state=123)\n",
    "    km = KMeans(n_clusters=3)\n",
    "    tau = time.time()\n",
    "    km.fit(X)\n",
    "    t1[i] = time.time() - tau\n",
    "plt.plot(sizes, t1)\n",
    "plt.xlabel('number')\n",
    "plt.ylabel('time')\n"
   ]
  },
  {
   "cell_type": "code",
   "execution_count": 11,
   "metadata": {},
   "outputs": [
    {
     "data": {
      "text/plain": [
       "Text(0,0.5,'time')"
      ]
     },
     "execution_count": 11,
     "metadata": {},
     "output_type": "execute_result"
    },
    {
     "data": {
      "image/png": "[encoded data removed]",
      "text/plain": [
       "<Figure size 432x288 with 1 Axes>"
      ]
     },
     "metadata": {},
     "output_type": "display_data"
    }
   ],
   "source": [
    "## Время выполнения алгоритма MyKmeans\n",
    "t2 = np.empty(len(sizes))\n",
    "for i, s in enumerate(sizes):\n",
    "    X, y = make_blobs(n_samples=s, n_features=2, centers=3, cluster_std=1, \n",
    "           center_box=(-10.0, 10.0), shuffle=False, random_state=123)\n",
    "    km = MyKmeans(k=3, max_iter=300)\n",
    "    tau = time.time()\n",
    "    km.fit(X)\n",
    "    t2[i] = time.time() - tau\n",
    "plt.plot(sizes, t2)\n",
    "plt.xlabel('number')\n",
    "plt.ylabel('time')\n"
   ]
  },
  {
   "cell_type": "code",
   "execution_count": 12,
   "metadata": {},
   "outputs": [
    {
     "name": "stderr",
     "output_type": "stream",
     "text": [
      "/usr/local/lib/python2.7/dist-packages/ipykernel_launcher.py:29: RuntimeWarning: overflow encountered in square\n"
     ]
    },
    {
     "data": {
      "text/plain": [
       "Text(0,0.5,'time')"
      ]
     },
     "execution_count": 12,
     "metadata": {},
     "output_type": "execute_result"
    },
    {
     "data": {
      "image/png": "[encoded data removed]",
      "text/plain": [
       "<Figure size 432x288 with 1 Axes>"
      ]
     },
     "metadata": {},
     "output_type": "display_data"
    }
   ],
   "source": [
    "## Время выполнения алгоритма MyKmeans++\n",
    "t3 = np.empty(len(sizes))\n",
    "for i, s in enumerate(sizes):\n",
    "    X, y = make_blobs(n_samples=s, n_features=2, centers=3, cluster_std=1, \n",
    "           center_box=(-10.0, 10.0), shuffle=False, random_state=123)\n",
    "    km = MyKmeans(k=3, max_iter=300, init='k-means')\n",
    "    tau = time.time()\n",
    "    km.fit(X)\n",
    "    t3[i] = time.time() - tau\n",
    "plt.plot(sizes, t3)\n",
    "plt.xlabel('number')\n",
    "plt.ylabel('time')\n"
   ]
  },
  {
   "cell_type": "code",
   "execution_count": 13,
   "metadata": {},
   "outputs": [
    {
     "data": {
      "text/plain": [
       "Text(0,0.5,'time')"
      ]
     },
     "execution_count": 13,
     "metadata": {},
     "output_type": "execute_result"
    },
    {
     "data": {
      "image/png": "[encoded data removed]",
      "text/plain": [
       "<Figure size 432x288 with 1 Axes>"
      ]
     },
     "metadata": {},
     "output_type": "display_data"
    }
   ],
   "source": [
    "## Время выполнения алгоритма MyKmeans с MiniBatchMyKmeans\n",
    "t4 = np.empty(len(sizes))\n",
    "for i, s in enumerate(sizes):\n",
    "    X, y = make_blobs(n_samples=s, n_features=2, centers=3, cluster_std=1, \n",
    "           center_box=(-10.0, 10.0), shuffle=False, random_state=123)\n",
    "    km = MiniBatchKMeans(k=3, max_iter=300, batch_size=100)\n",
    "    tau = time.time()\n",
    "    km.fit(X)\n",
    "    t4[i] = time.time() - tau\n",
    "plt.plot(sizes, t4)\n",
    "plt.xlabel('number')\n",
    "plt.ylabel('time')\n"
   ]
  },
  {
   "cell_type": "code",
   "execution_count": 14,
   "metadata": {},
   "outputs": [
    {
     "name": "stderr",
     "output_type": "stream",
     "text": [
      "/usr/local/lib/python2.7/dist-packages/ipykernel_launcher.py:192: RuntimeWarning: invalid value encountered in divide\n"
     ]
    },
    {
     "data": {
      "text/plain": [
       "Text(0,0.5,'time')"
      ]
     },
     "execution_count": 14,
     "metadata": {},
     "output_type": "execute_result"
    },
    {
     "data": {
      "image/png": "[encoded data removed]",
      "text/plain": [
       "<Figure size 432x288 with 1 Axes>"
      ]
     },
     "metadata": {},
     "output_type": "display_data"
    }
   ],
   "source": [
    "## Время выполнения алгоритма  MyKmeans++ с MiniBatchMyKmeans\n",
    "t5 = np.empty(len(sizes))\n",
    "for i, s in enumerate(sizes):\n",
    "    X, y = make_blobs(n_samples=s, n_features=2, centers=3, cluster_std=1, \n",
    "           center_box=(-10.0, 10.0), shuffle=False, random_state=123)\n",
    "    km = MiniBatchKMeans(k=3, max_iter=300, init='k-means', batch_size=100)\n",
    "    tau = time.time()\n",
    "    km.fit(X)\n",
    "    t5[i] = time.time() - tau\n",
    "plt.plot(sizes, t5)\n",
    "plt.xlabel('number')\n",
    "plt.ylabel('time')\n"
   ]
  },
  {
   "cell_type": "code",
   "execution_count": 15,
   "metadata": {},
   "outputs": [
    {
     "data": {
      "text/plain": [
       "Text(0,0.5,'time')"
      ]
     },
     "execution_count": 15,
     "metadata": {},
     "output_type": "execute_result"
    },
    {
     "data": {
      "image/png": "[encoded data removed]",
      "text/plain": [
       "<Figure size 432x288 with 1 Axes>"
      ]
     },
     "metadata": {},
     "output_type": "display_data"
    }
   ],
   "source": [
    "plt.plot(sizes, t1, label='sklearn')\n",
    "plt.plot(sizes, t2, label='kmeans')\n",
    "plt.plot(sizes, t3, label='kmeans++')\n",
    "plt.plot(sizes, t4, label='minibatch kmeans')\n",
    "plt.plot(sizes, t5, label='minibatch kmeans++')\n",
    "plt.legend()\n",
    "plt.xlabel('number')\n",
    "plt.ylabel('time')\n"
   ]
  },
  {
   "cell_type": "markdown",
   "metadata": {},
   "source": [
    "# Применение K-means на реальных данных"
   ]
  },
  {
   "cell_type": "markdown",
   "metadata": {},
   "source": [
    "Загрузите [данные](https://github.com/brenden17/sklearnlab/blob/master/facebook/snsdata.csv) в которых содержится описание интересов профилей учеников старшей школы США.  (без этого пункта задание не считается выполненным).   \n",
    "ВНИМАНИЕ! Проверка должна быть осуществлена на всех реализациях, иначе реализация не будет зачтена!"
   ]
  },
  {
   "cell_type": "code",
   "execution_count": 16,
   "metadata": {},
   "outputs": [
    {
     "data": {
      "text/html": [
       "<div>\n",
       "<style scoped>\n",
       "    .dataframe tbody tr th:only-of-type {\n",
       "        vertical-align: middle;\n",
       "    }\n",
       "\n",
       "    .dataframe tbody tr th {\n",
       "        vertical-align: top;\n",
       "    }\n",
       "\n",
       "    .dataframe thead th {\n",
       "        text-align: right;\n",
       "    }\n",
       "</style>\n",
       "<table border=\"1\" class=\"dataframe\">\n",
       "  <thead>\n",
       "    <tr style=\"text-align: right;\">\n",
       "      <th></th>\n",
       "      <th>gradyear</th>\n",
       "      <th>gender</th>\n",
       "      <th>age</th>\n",
       "      <th>friends</th>\n",
       "      <th>basketball</th>\n",
       "      <th>football</th>\n",
       "      <th>soccer</th>\n",
       "      <th>softball</th>\n",
       "      <th>volleyball</th>\n",
       "      <th>swimming</th>\n",
       "      <th>...</th>\n",
       "      <th>blonde</th>\n",
       "      <th>mall</th>\n",
       "      <th>shopping</th>\n",
       "      <th>clothes</th>\n",
       "      <th>hollister</th>\n",
       "      <th>abercrombie</th>\n",
       "      <th>die</th>\n",
       "      <th>death</th>\n",
       "      <th>drunk</th>\n",
       "      <th>drugs</th>\n",
       "    </tr>\n",
       "  </thead>\n",
       "  <tbody>\n",
       "    <tr>\n",
       "      <th>0</th>\n",
       "      <td>2006</td>\n",
       "      <td>M</td>\n",
       "      <td>18.982</td>\n",
       "      <td>7</td>\n",
       "      <td>0</td>\n",
       "      <td>0</td>\n",
       "      <td>0</td>\n",
       "      <td>0</td>\n",
       "      <td>0</td>\n",
       "      <td>0</td>\n",
       "      <td>...</td>\n",
       "      <td>0</td>\n",
       "      <td>0</td>\n",
       "      <td>0</td>\n",
       "      <td>0</td>\n",
       "      <td>0</td>\n",
       "      <td>0</td>\n",
       "      <td>0</td>\n",
       "      <td>0</td>\n",
       "      <td>0</td>\n",
       "      <td>0</td>\n",
       "    </tr>\n",
       "    <tr>\n",
       "      <th>1</th>\n",
       "      <td>2006</td>\n",
       "      <td>F</td>\n",
       "      <td>18.801</td>\n",
       "      <td>0</td>\n",
       "      <td>0</td>\n",
       "      <td>1</td>\n",
       "      <td>0</td>\n",
       "      <td>0</td>\n",
       "      <td>0</td>\n",
       "      <td>0</td>\n",
       "      <td>...</td>\n",
       "      <td>0</td>\n",
       "      <td>1</td>\n",
       "      <td>0</td>\n",
       "      <td>0</td>\n",
       "      <td>0</td>\n",
       "      <td>0</td>\n",
       "      <td>0</td>\n",
       "      <td>0</td>\n",
       "      <td>0</td>\n",
       "      <td>0</td>\n",
       "    </tr>\n",
       "    <tr>\n",
       "      <th>2</th>\n",
       "      <td>2006</td>\n",
       "      <td>M</td>\n",
       "      <td>18.335</td>\n",
       "      <td>69</td>\n",
       "      <td>0</td>\n",
       "      <td>1</td>\n",
       "      <td>0</td>\n",
       "      <td>0</td>\n",
       "      <td>0</td>\n",
       "      <td>0</td>\n",
       "      <td>...</td>\n",
       "      <td>0</td>\n",
       "      <td>0</td>\n",
       "      <td>0</td>\n",
       "      <td>0</td>\n",
       "      <td>0</td>\n",
       "      <td>0</td>\n",
       "      <td>0</td>\n",
       "      <td>1</td>\n",
       "      <td>0</td>\n",
       "      <td>0</td>\n",
       "    </tr>\n",
       "    <tr>\n",
       "      <th>3</th>\n",
       "      <td>2006</td>\n",
       "      <td>F</td>\n",
       "      <td>18.875</td>\n",
       "      <td>0</td>\n",
       "      <td>0</td>\n",
       "      <td>0</td>\n",
       "      <td>0</td>\n",
       "      <td>0</td>\n",
       "      <td>0</td>\n",
       "      <td>0</td>\n",
       "      <td>...</td>\n",
       "      <td>0</td>\n",
       "      <td>0</td>\n",
       "      <td>0</td>\n",
       "      <td>0</td>\n",
       "      <td>0</td>\n",
       "      <td>0</td>\n",
       "      <td>0</td>\n",
       "      <td>0</td>\n",
       "      <td>0</td>\n",
       "      <td>0</td>\n",
       "    </tr>\n",
       "    <tr>\n",
       "      <th>4</th>\n",
       "      <td>2006</td>\n",
       "      <td>NaN</td>\n",
       "      <td>18.995</td>\n",
       "      <td>10</td>\n",
       "      <td>0</td>\n",
       "      <td>0</td>\n",
       "      <td>0</td>\n",
       "      <td>0</td>\n",
       "      <td>0</td>\n",
       "      <td>0</td>\n",
       "      <td>...</td>\n",
       "      <td>0</td>\n",
       "      <td>0</td>\n",
       "      <td>2</td>\n",
       "      <td>0</td>\n",
       "      <td>0</td>\n",
       "      <td>0</td>\n",
       "      <td>0</td>\n",
       "      <td>0</td>\n",
       "      <td>1</td>\n",
       "      <td>1</td>\n",
       "    </tr>\n",
       "  </tbody>\n",
       "</table>\n",
       "<p>5 rows × 40 columns</p>\n",
       "</div>"
      ],
      "text/plain": [
       "   gradyear gender     age  friends  basketball  football  soccer  softball  \\\n",
       "0      2006      M  18.982        7           0         0       0         0   \n",
       "1      2006      F  18.801        0           0         1       0         0   \n",
       "2      2006      M  18.335       69           0         1       0         0   \n",
       "3      2006      F  18.875        0           0         0       0         0   \n",
       "4      2006    NaN  18.995       10           0         0       0         0   \n",
       "\n",
       "   volleyball  swimming  ...    blonde  mall  shopping  clothes  hollister  \\\n",
       "0           0         0  ...         0     0         0        0          0   \n",
       "1           0         0  ...         0     1         0        0          0   \n",
       "2           0         0  ...         0     0         0        0          0   \n",
       "3           0         0  ...         0     0         0        0          0   \n",
       "4           0         0  ...         0     0         2        0          0   \n",
       "\n",
       "   abercrombie  die  death  drunk  drugs  \n",
       "0            0    0      0      0      0  \n",
       "1            0    0      0      0      0  \n",
       "2            0    0      1      0      0  \n",
       "3            0    0      0      0      0  \n",
       "4            0    0      0      1      1  \n",
       "\n",
       "[5 rows x 40 columns]"
      ]
     },
     "execution_count": 16,
     "metadata": {},
     "output_type": "execute_result"
    }
   ],
   "source": [
    "df_sns = pd.read_csv('snsdata.csv', sep=',')\n",
    "df_sns.head()\n"
   ]
  },
  {
   "cell_type": "code",
   "execution_count": 17,
   "metadata": {},
   "outputs": [],
   "source": [
    "df_sns = df_sns.drop(columns=['gradyear', 'gender', 'age', 'friends'])\n",
    "df_sns.head()\n",
    "X = df_sns.values.astype('float')\n",
    "X -= np.mean(X, axis=0)\n",
    "X /= np.std(X, axis=0)\n",
    "\n",
    "clusters_num = 9\n",
    "keywords = df_sns.columns.values\n",
    "batch_size = df_sns.shape[0]/30\n"
   ]
  },
  {
   "cell_type": "markdown",
   "metadata": {},
   "source": [
    "Данные устроены так: \n",
    "* Год выпуска\n",
    "* Пол\n",
    "* Возраст\n",
    "* Количество друзей\n",
    "* 36 ключевых слов, которые встречаются в профилe facebook (интересы, сообщества, встречи)"
   ]
  },
  {
   "cell_type": "markdown",
   "metadata": {},
   "source": [
    "* Удалите все признаки кроме 36 ключевых слов.\n",
    "* Нормализуйте данные - из каждого столбца вычтите его среднее значение и поделите на стандартное отклонение.\n",
    "* Используйте метод k-means чтобы выделить 9 кластеров\n",
    "* Попробуйте проинтерпретировать каждый кластер проанализировав полученные центройды (Некоторые кластеры могут быть очень большие и очень маленькие - плохо интерпретируются)   \n",
    "КОММЕНТАРИИ НЕ СТИРАТЬ!"
   ]
  },
  {
   "cell_type": "code",
   "execution_count": 18,
   "metadata": {},
   "outputs": [
    {
     "name": "stdout",
     "output_type": "stream",
     "text": [
      "Cluster #0, size = 4597, keywords = ['music' 'band' 'die']\n",
      "Cluster #1, size = 164, keywords = ['volleyball' 'sex' 'kissed']\n",
      "Cluster #2, size = 957, keywords = ['soccer' 'sports' 'cheerleading']\n",
      "Cluster #3, size = 688, keywords = ['drunk' 'hair' 'drugs']\n",
      "Cluster #4, size = 483, keywords = ['god' 'church' 'bible']\n",
      "Cluster #5, size = 90, keywords = ['god' 'jesus' 'bible']\n",
      "Cluster #6, size = 547, keywords = ['cute' 'shopping' 'swimming']\n",
      "Cluster #7, size = 920, keywords = ['dance' 'rock' 'hot']\n",
      "Cluster #8, size = 21554, keywords = ['softball' 'tennis' 'blonde']\n"
     ]
    }
   ],
   "source": [
    "## MyKMeans\n",
    "km = MyKmeans(k=clusters_num)\n",
    "km.fit(X)\n",
    "for t, c in enumerate(km.centroids):\n",
    "    print('Cluster #%d, size = %d, keywords = %s' % (t, X[km.labels == t].shape[0],\n",
    "                                                     keywords[np.argsort(c)[-3:]]))\n"
   ]
  },
  {
   "cell_type": "code",
   "execution_count": 19,
   "metadata": {},
   "outputs": [
    {
     "name": "stdout",
     "output_type": "stream",
     "text": [
      "Cluster #0, size = 1456, keywords = ['cute' 'shopping' 'mall']\n",
      "Cluster #1, size = 3703, keywords = ['baseball' 'tennis' 'football']\n",
      "Cluster #2, size = 1937, keywords = ['kissed' 'soccer' 'drunk']\n",
      "Cluster #3, size = 18310, keywords = ['bible' 'blonde' 'marching']\n",
      "Cluster #4, size = 619, keywords = ['bible' 'god' 'jesus']\n",
      "Cluster #5, size = 1153, keywords = ['shopping' 'abercrombie' 'hollister']\n",
      "Cluster #6, size = 2032, keywords = ['basketball' 'cute' 'sexy']\n",
      "Cluster #7, size = 435, keywords = ['sex' 'hair' 'hot']\n",
      "Cluster #8, size = 355, keywords = ['sports' 'basketball' 'softball']\n"
     ]
    }
   ],
   "source": [
    "## MyKMeans++\n",
    "km = MyKmeans(k=clusters_num, init='k-means')\n",
    "km.fit(X)\n",
    "for t, c in enumerate(km.centroids):\n",
    "    print('Cluster #%d, size = %d, keywords = %s' % (t, X[km.labels == t].shape[0],\n",
    "                                                     keywords[np.argsort(c)[-3:]]))\n"
   ]
  },
  {
   "cell_type": "code",
   "execution_count": 20,
   "metadata": {},
   "outputs": [
    {
     "name": "stdout",
     "output_type": "stream",
     "text": [
      "Cluster #0, size = 27189, keywords = ['volleyball' 'die' 'death']\n",
      "Cluster #1, size = 500, keywords = ['god' 'jesus' 'church']\n",
      "Cluster #2, size = 132, keywords = ['tennis' 'softball' 'shopping']\n",
      "Cluster #3, size = 139, keywords = ['hollister' 'cheerleading' 'hot']\n",
      "Cluster #4, size = 203, keywords = ['music' 'softball' 'rock']\n",
      "Cluster #5, size = 149, keywords = ['kissed' 'hair' 'music']\n",
      "Cluster #6, size = 1216, keywords = ['sports' 'baseball' 'blonde']\n",
      "Cluster #7, size = 3, keywords = ['dance' 'drunk' 'drugs']\n",
      "Cluster #8, size = 58, keywords = ['shopping' 'sexy' 'cute']\n"
     ]
    },
    {
     "name": "stderr",
     "output_type": "stream",
     "text": [
      "/usr/local/lib/python2.7/dist-packages/ipykernel_launcher.py:192: RuntimeWarning: invalid value encountered in divide\n"
     ]
    }
   ],
   "source": [
    "## MyKMeans с MiniBatchMyKMeans\n",
    "km = MiniBatchKMeans(k=clusters_num, batch_size=batch_size)\n",
    "km.fit(X)\n",
    "for t, c in enumerate(km.centroids):\n",
    "    print('Cluster #%d, size = %d, keywords = %s' % (t, X[km.labels == t].shape[0],\n",
    "                                                     keywords[np.argsort(c)[-3:]]))\n"
   ]
  },
  {
   "cell_type": "code",
   "execution_count": 21,
   "metadata": {},
   "outputs": [
    {
     "name": "stdout",
     "output_type": "stream",
     "text": [
      "Cluster #0, size = 22549, keywords = ['blonde' 'tennis' 'soccer']\n",
      "Cluster #1, size = 232, keywords = ['die' 'sexy' 'death']\n",
      "Cluster #2, size = 71, keywords = ['sports' 'basketball' 'football']\n",
      "Cluster #3, size = 89, keywords = ['dance' 'marching' 'band']\n",
      "Cluster #4, size = 50, keywords = ['dress' 'tennis' 'church']\n",
      "Cluster #5, size = 88, keywords = ['cheerleading' 'hollister' 'abercrombie']\n",
      "Cluster #6, size = 59, keywords = ['drugs' 'hair' 'kissed']\n",
      "Cluster #7, size = 136, keywords = ['dance' 'dress' 'clothes']\n",
      "Cluster #8, size = 70, keywords = ['god' 'baseball' 'bible']\n"
     ]
    }
   ],
   "source": [
    "## MyKMeans++ с MiniBatchMyKMeans\n",
    "km = MiniBatchKMeans(k=clusters_num, batch_size=batch_size, init='k-means')\n",
    "km.fit(X)\n",
    "for t, c in enumerate(km.centroids):\n",
    "    print('Cluster #%d, size = %d, keywords = %s' % (t, X[km.labels == t].shape[0],\n",
    "                                                     keywords[np.argsort(c)[-3:]]))\n"
   ]
  },
  {
   "cell_type": "markdown",
   "metadata": {},
   "source": [
    "## Вывод\n",
    "Все полученные выше кластеризации, за исключением\n",
    "неадекватно больших (>15000) или совсем маленьких (~10)\n",
    "кластеров, хорошо интерпретируются. В целом метод k-means\n",
    "исключительно сильно подвержен влиянию случайности,\n",
    "что видно уже на игрушечных данных. При использовании метода\n",
    "начальной инициализации k-means++ проблема становится\n",
    "менее заметной, но возрастает время работы алгоритма.\n",
    "Касательно модификации алгоритма MiniBatch, её использование\n",
    "оправдано, так как добавляет модели гибкости в силу наличия\n",
    "дополнительного гиперпараметра."
   ]
  }
 ],
 "metadata": {
  "anaconda-cloud": {},
  "kernelspec": {
   "display_name": "Python 2",
   "language": "python",
   "name": "python2"
  },
  "language_info": {
   "codemirror_mode": {
    "name": "ipython",
    "version": 2
   },
   "file_extension": ".py",
   "mimetype": "text/x-python",
   "name": "python",
   "nbconvert_exporter": "python",
   "pygments_lexer": "ipython2",
   "version": "2.7.12"
  },
  "nav_menu": {},
  "toc": {
   "navigate_menu": true,
   "number_sections": false,
   "sideBar": true,
   "threshold": 6,
   "toc_cell": false,
   "toc_section_display": "block",
   "toc_window_display": true
  }
 },
 "nbformat": 4,
 "nbformat_minor": 2
}
