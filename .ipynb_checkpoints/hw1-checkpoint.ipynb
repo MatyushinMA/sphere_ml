{
 "cells": [
  {
   "cell_type": "markdown",
   "metadata": {},
   "source": [
    "**Общая информация**\n",
    "\n",
    "**Срок сдачи:** 13 марта 2017, 06:00 <br\\>\n",
    "**Штраф за опоздание:** -2 балла после 06:00 13 марта, -4 балла после 06:00 20 марта, -6 баллов после 06:00 27 марта\n",
    "\n",
    "При отправлении ДЗ указывайте фамилию в названии файла\n",
    "Присылать ДЗ необходимо в виде ссылки на свой github репозиторий в slack @alkhamush\n",
    "\n",
    "Необходимо в slack создать таск в приватный чат:\n",
    "/todo Фамилия Имя ссылка на гитхаб @alkhamush\n",
    "Пример:\n",
    "/todo Ксения Стройкова https://github.com/stroykova/spheremailru/stroykova_hw1.ipynb @alkhamush\n",
    "\n",
    "Используйте данный Ipython Notebook при оформлении домашнего задания."
   ]
  },
  {
   "cell_type": "markdown",
   "metadata": {},
   "source": [
    "###### Задание 1 (2 баллов)\n",
    "Реализовать KNN в классе MyKNeighborsClassifier (обязательное условие: точность не ниже sklearn реализации)\n",
    "Разберитесь самостоятельно, какая мера расстояния используется в KNeighborsClassifier дефолтно и реализуйте свой алгоритм именно с этой мерой. Самостоятельно разберитесь, как считается score из KNeighborsClassifier и реализуйте аналог в своём классе.\n",
    "\n",
    "###### Задание 2 (2 балла)\n",
    "Добиться скорости работы на fit,  predict и predict_proba сравнимой со sklearn 4 балла для iris и mnist\n",
    "Для этого используем numpy\n",
    "\n",
    "###### Задание 3 (2 балла)\n",
    "Для iris найдите такой параметр n_neighbors, при котором выдаётся наилучший score. Нарисуйте график зависимости score от n_neighbors\n",
    "\n",
    "###### Задание 3 (2 балла)\n",
    "Выполнить требования pep8\n",
    "\n",
    "###### Задание 5 (2 балла)\n",
    "Описать для чего нужны следующие библиотеки/классы/функции (список будет ниже)\n"
   ]
  },
  {
   "cell_type": "code",
   "execution_count": 1,
   "metadata": {},
   "outputs": [],
   "source": [
    "import numpy as np\n",
    "import matplotlib.pyplot as plt\n",
    "\n",
    "import seaborn as sns\n",
    "from sklearn import datasets\n",
    "from sklearn.base import ClassifierMixin\n",
    "from sklearn.datasets import fetch_mldata\n",
    "from sklearn.neighbors.base import NeighborsBase, KNeighborsMixin, SupervisedIntegerMixin \n",
    "from sklearn.model_selection import train_test_split\n",
    "from sklearn.neighbors import KNeighborsClassifier\n",
    "#%load_ext pycodestyle_magic"
   ]
  },
  {
   "cell_type": "code",
   "execution_count": 2,
   "metadata": {},
   "outputs": [],
   "source": [
    "#%%pycodestyle\n",
    "\n",
    "\n",
    "class MyKNeighborsClassifier(NeighborsBase,\n",
    "                             KNeighborsMixin,\n",
    "                             SupervisedIntegerMixin,\n",
    "                             ClassifierMixin):\n",
    "\n",
    "    def __init__(self, n_neighbors):\n",
    "        self.neighbors_param = n_neighbors\n",
    "\n",
    "    def fit(self, X, y):\n",
    "        self.fit_X = X.copy()\n",
    "        self.fit_y = y.copy()\n",
    "        self.fit_classes = []\n",
    "        for t in self.fit_y:\n",
    "            if t not in self.fit_classes:\n",
    "                self.fit_classes.append(t)\n",
    "\n",
    "    def predict(self, X):\n",
    "        y = np.zeros(X.shape[0])\n",
    "        fit_X_tmp = np.tile(self.fit_X, (X.shape[0], 1))\n",
    "        X_tmp = np.tile(X, (1, self.fit_X.shape[0]))\n",
    "        X_tmp = X_tmp.reshape((self.fit_X.shape[0]*X.shape[0], X.shape[1]))\n",
    "        tmp = (((fit_X_tmp - X_tmp) ** 2).sum(axis=1)) ** 0.5\n",
    "        tmp = tmp.reshape((X.shape[0], self.fit_X.shape[0]))\n",
    "        tmp = np.argsort(tmp, axis=1)\n",
    "        tmp = tmp[:, 0:self.neighbors_param].copy()\n",
    "        rows_mask = np.arange(tmp.shape[0]).reshape(tmp.shape[0], 1)\n",
    "        rows_mask = np.tile(rows_mask, (1, self.neighbors_param))\n",
    "        cols_mask = tmp\n",
    "        print(\"cols_mask_dim = %s, rows_mask_dim = %s\" % (cols_mask.shape, rows_mask.shape))\n",
    "        fit_y_tmp = self.fit_y.reshape((1, self.fit_y.shape[0]))\n",
    "        fit_y_tmp = np.tile(fit_y_tmp, (tmp.shape[0], 1))\n",
    "        tttmp = np.zeros((tmp.shape[0], len(self.fit_classes)))\n",
    "        for i, t in enumerate(self.fit_classes):\n",
    "            ttttmp = np.zeros((fit_y_tmp.shape[0], fit_y_tmp.shape[1]))\n",
    "            ttttmp[fit_y_tmp == t] = 1\n",
    "            tttmp[:, i] = ttttmp[rows_mask, cols_mask].sum(axis=1)\n",
    "        tttmp = np.argsort(tttmp, axis=1)\n",
    "        y = tttmp[:, -1].copy()\n",
    "        tmp_classes = np.array(self.fit_classes)\n",
    "        y = tmp_classes[y].copy()\n",
    "        return y\n",
    "\n",
    "    def predict_proba(self, X):\n",
    "        y = np.zeros(X.shape[0])\n",
    "        fit_X_tmp = np.tile(self.fit_X, (X.shape[0], 1))\n",
    "        X_tmp = np.tile(X, (1, self.fit_X.shape[0]))\n",
    "        X_tmp = X_tmp.reshape((self.fit_X.shape[0]*X.shape[0], X.shape[1]))\n",
    "        tmp = (((fit_X_tmp - X_tmp) ** 2).sum(axis=1)) ** 0.5\n",
    "        tmp = tmp.reshape((X.shape[0], self.fit_X.shape[0]))\n",
    "        tmp = np.argsort(tmp, axis=1)\n",
    "        tmp = tmp[:, 0:self.neighbors_param].copy()\n",
    "        rows_mask = np.arange(tmp.shape[0]).reshape(tmp.shape[0], 1)\n",
    "        rows_mask = np.tile(rows_mask, (1, self.neighbors_param))\n",
    "        cols_mask = tmp\n",
    "        fit_y_tmp = self.fit_y.reshape((1, self.fit_y.shape[0]))\n",
    "        fit_y_tmp = np.tile(fit_y_tmp, (tmp.shape[0], 1))\n",
    "        tttmp = np.zeros((tmp.shape[0], len(self.fit_classes)))\n",
    "        for i, t in enumerate(self.fit_classes):\n",
    "            ttttmp = np.zeros((fit_y_tmp.shape[0], fit_y_tmp.shape[1]))\n",
    "            ttttmp[fit_y_tmp == t] = 1\n",
    "            tttmp[:, i] = ttttmp[rows_mask, cols_mask].sum(axis=1)\n",
    "        tmp_sums = tttmp.sum(axis=1).reshape(tttmp.shape[0], 1)\n",
    "        tmp_sums = np.tile(tmp_sums, (1, tttmp.shape[1]))\n",
    "        tttmp = tttmp / tmp_sums\n",
    "\n",
    "        rows_mask = np.arange(tttmp.shape[0]).reshape(tttmp.shape[0], 1)\n",
    "        rows_mask = np.tile(rows_mask, (1, len(self.fit_classes)))\n",
    "        cols_mask = np.arange(len(self.fit_classes))\n",
    "        cols_mask = np.array(cols_mask)[np.argsort(np.array(self.fit_classes))]\n",
    "        cols_mask = np.tile(cols_mask, (tttmp.shape[0], 1))\n",
    "        y = tttmp[rows_mask, cols_mask].copy()\n",
    "        return y\n",
    "\n",
    "    def score(self, X, y):\n",
    "        predicted = self.predict(X)\n",
    "        cnt = 0.\n",
    "        for i, t in enumerate(y):\n",
    "            if predicted[i] == t:\n",
    "                cnt = cnt + 1.\n",
    "        return cnt/len(y)\n"
   ]
  },
  {
   "cell_type": "markdown",
   "metadata": {},
   "source": [
    "**IRIS**"
   ]
  },
  {
   "cell_type": "code",
   "execution_count": 3,
   "metadata": {},
   "outputs": [],
   "source": [
    "iris = datasets.load_iris()"
   ]
  },
  {
   "cell_type": "code",
   "execution_count": 4,
   "metadata": {},
   "outputs": [],
   "source": [
    "X_train, X_test, y_train, y_test = train_test_split(iris.data, iris.target, test_size=0.1, stratify=iris.target)"
   ]
  },
  {
   "cell_type": "code",
   "execution_count": 5,
   "metadata": {},
   "outputs": [],
   "source": [
    "clf = KNeighborsClassifier(n_neighbors=2)\n",
    "my_clf = MyKNeighborsClassifier(n_neighbors=2)"
   ]
  },
  {
   "cell_type": "code",
   "execution_count": 6,
   "metadata": {},
   "outputs": [
    {
     "name": "stdout",
     "output_type": "stream",
     "text": [
      "CPU times: user 5.12 ms, sys: 333 µs, total: 5.45 ms\n",
      "Wall time: 5.83 ms\n"
     ]
    },
    {
     "data": {
      "text/plain": [
       "KNeighborsClassifier(algorithm='auto', leaf_size=30, metric='minkowski',\n",
       "           metric_params=None, n_jobs=1, n_neighbors=2, p=2,\n",
       "           weights='uniform')"
      ]
     },
     "execution_count": 6,
     "metadata": {},
     "output_type": "execute_result"
    }
   ],
   "source": [
    "%time clf.fit(X_train, y_train)"
   ]
  },
  {
   "cell_type": "code",
   "execution_count": 7,
   "metadata": {},
   "outputs": [
    {
     "name": "stdout",
     "output_type": "stream",
     "text": [
      "CPU times: user 577 µs, sys: 0 ns, total: 577 µs\n",
      "Wall time: 483 µs\n"
     ]
    }
   ],
   "source": [
    "%time my_clf.fit(X_train, y_train)"
   ]
  },
  {
   "cell_type": "code",
   "execution_count": 8,
   "metadata": {},
   "outputs": [
    {
     "name": "stdout",
     "output_type": "stream",
     "text": [
      "CPU times: user 956 µs, sys: 265 µs, total: 1.22 ms\n",
      "Wall time: 995 µs\n"
     ]
    },
    {
     "data": {
      "text/plain": [
       "array([1, 0, 1, 0, 0, 1, 2, 1, 1, 2, 2, 1, 0, 0, 2])"
      ]
     },
     "execution_count": 8,
     "metadata": {},
     "output_type": "execute_result"
    }
   ],
   "source": [
    "%time clf.predict(X_test)"
   ]
  },
  {
   "cell_type": "code",
   "execution_count": 9,
   "metadata": {},
   "outputs": [
    {
     "name": "stdout",
     "output_type": "stream",
     "text": [
      "cols_mask_dim = (15, 2), rows_mask_dim = (15, 2)\n",
      "CPU times: user 2.42 ms, sys: 0 ns, total: 2.42 ms\n",
      "Wall time: 1.61 ms\n"
     ]
    },
    {
     "data": {
      "text/plain": [
       "array([1, 0, 1, 0, 0, 1, 2, 1, 1, 2, 2, 1, 0, 0, 2])"
      ]
     },
     "execution_count": 9,
     "metadata": {},
     "output_type": "execute_result"
    }
   ],
   "source": [
    "%time my_clf.predict(X_test)"
   ]
  },
  {
   "cell_type": "code",
   "execution_count": 10,
   "metadata": {},
   "outputs": [
    {
     "name": "stdout",
     "output_type": "stream",
     "text": [
      "CPU times: user 1.14 ms, sys: 314 µs, total: 1.45 ms\n",
      "Wall time: 1.03 ms\n"
     ]
    },
    {
     "data": {
      "text/plain": [
       "array([[0., 1., 0.],\n",
       "       [1., 0., 0.],\n",
       "       [0., 1., 0.],\n",
       "       [1., 0., 0.],\n",
       "       [1., 0., 0.],\n",
       "       [0., 1., 0.],\n",
       "       [0., 0., 1.],\n",
       "       [0., 1., 0.],\n",
       "       [0., 1., 0.],\n",
       "       [0., 0., 1.],\n",
       "       [0., 0., 1.],\n",
       "       [0., 1., 0.],\n",
       "       [1., 0., 0.],\n",
       "       [1., 0., 0.],\n",
       "       [0., 0., 1.]])"
      ]
     },
     "execution_count": 10,
     "metadata": {},
     "output_type": "execute_result"
    }
   ],
   "source": [
    "%time clf.predict_proba(X_test)"
   ]
  },
  {
   "cell_type": "code",
   "execution_count": 11,
   "metadata": {},
   "outputs": [
    {
     "name": "stdout",
     "output_type": "stream",
     "text": [
      "CPU times: user 438 µs, sys: 123 µs, total: 561 µs\n",
      "Wall time: 569 µs\n"
     ]
    },
    {
     "data": {
      "text/plain": [
       "array([[0., 1., 0.],\n",
       "       [1., 0., 0.],\n",
       "       [0., 1., 0.],\n",
       "       [1., 0., 0.],\n",
       "       [1., 0., 0.],\n",
       "       [0., 1., 0.],\n",
       "       [0., 0., 1.],\n",
       "       [0., 1., 0.],\n",
       "       [0., 1., 0.],\n",
       "       [0., 0., 1.],\n",
       "       [0., 0., 1.],\n",
       "       [0., 1., 0.],\n",
       "       [1., 0., 0.],\n",
       "       [1., 0., 0.],\n",
       "       [0., 0., 1.]])"
      ]
     },
     "execution_count": 11,
     "metadata": {},
     "output_type": "execute_result"
    }
   ],
   "source": [
    "%time my_clf.predict_proba(X_test)"
   ]
  },
  {
   "cell_type": "code",
   "execution_count": 12,
   "metadata": {},
   "outputs": [
    {
     "data": {
      "text/plain": [
       "0.8"
      ]
     },
     "execution_count": 12,
     "metadata": {},
     "output_type": "execute_result"
    }
   ],
   "source": [
    "clf.score(X_test, y_test)"
   ]
  },
  {
   "cell_type": "code",
   "execution_count": 14,
   "metadata": {},
   "outputs": [
    {
     "name": "stdout",
     "output_type": "stream",
     "text": [
      "cols_mask_dim = (15, 2), rows_mask_dim = (15, 2)\n"
     ]
    },
    {
     "data": {
      "text/plain": [
       "0.8"
      ]
     },
     "execution_count": 14,
     "metadata": {},
     "output_type": "execute_result"
    }
   ],
   "source": [
    "my_clf.score(X_test, y_test)"
   ]
  },
  {
   "cell_type": "code",
   "execution_count": 14,
   "metadata": {},
   "outputs": [
    {
     "name": "stdout",
     "output_type": "stream",
     "text": [
      "1\n",
      "cols_mask_dim = (75, 1), rows_mask_dim = (75, 1)\n",
      "2\n",
      "cols_mask_dim = (75, 2), rows_mask_dim = (75, 2)\n",
      "3\n",
      "cols_mask_dim = (75, 3), rows_mask_dim = (75, 3)\n",
      "4\n",
      "cols_mask_dim = (75, 4), rows_mask_dim = (75, 4)\n",
      "5\n",
      "cols_mask_dim = (75, 5), rows_mask_dim = (75, 5)\n",
      "6\n",
      "cols_mask_dim = (75, 6), rows_mask_dim = (75, 6)\n",
      "7\n",
      "cols_mask_dim = (75, 7), rows_mask_dim = (75, 7)\n",
      "8\n",
      "cols_mask_dim = (75, 8), rows_mask_dim = (75, 8)\n",
      "9\n",
      "cols_mask_dim = (75, 9), rows_mask_dim = (75, 9)\n",
      "10\n",
      "cols_mask_dim = (75, 10), rows_mask_dim = (75, 10)\n",
      "11\n",
      "cols_mask_dim = (75, 11), rows_mask_dim = (75, 11)\n",
      "12\n",
      "cols_mask_dim = (75, 12), rows_mask_dim = (75, 12)\n",
      "13\n",
      "cols_mask_dim = (75, 13), rows_mask_dim = (75, 13)\n",
      "14\n",
      "cols_mask_dim = (75, 14), rows_mask_dim = (75, 14)\n",
      "15\n",
      "cols_mask_dim = (75, 15), rows_mask_dim = (75, 15)\n",
      "16\n",
      "cols_mask_dim = (75, 16), rows_mask_dim = (75, 16)\n",
      "17\n",
      "cols_mask_dim = (75, 17), rows_mask_dim = (75, 17)\n",
      "18\n",
      "cols_mask_dim = (75, 18), rows_mask_dim = (75, 18)\n",
      "19\n",
      "cols_mask_dim = (75, 19), rows_mask_dim = (75, 19)\n",
      "20\n",
      "cols_mask_dim = (75, 20), rows_mask_dim = (75, 20)\n",
      "21\n",
      "cols_mask_dim = (75, 21), rows_mask_dim = (75, 21)\n",
      "22\n",
      "cols_mask_dim = (75, 22), rows_mask_dim = (75, 22)\n",
      "23\n",
      "cols_mask_dim = (75, 23), rows_mask_dim = (75, 23)\n",
      "24\n",
      "cols_mask_dim = (75, 24), rows_mask_dim = (75, 24)\n",
      "25\n",
      "cols_mask_dim = (75, 25), rows_mask_dim = (75, 25)\n",
      "26\n",
      "cols_mask_dim = (75, 26), rows_mask_dim = (75, 26)\n",
      "27\n",
      "cols_mask_dim = (75, 27), rows_mask_dim = (75, 27)\n",
      "28\n",
      "cols_mask_dim = (75, 28), rows_mask_dim = (75, 28)\n",
      "29\n",
      "cols_mask_dim = (75, 29), rows_mask_dim = (75, 29)\n",
      "30\n",
      "cols_mask_dim = (75, 30), rows_mask_dim = (75, 30)\n",
      "31\n",
      "cols_mask_dim = (75, 31), rows_mask_dim = (75, 31)\n",
      "32\n",
      "cols_mask_dim = (75, 32), rows_mask_dim = (75, 32)\n",
      "33\n",
      "cols_mask_dim = (75, 33), rows_mask_dim = (75, 33)\n",
      "34\n",
      "cols_mask_dim = (75, 34), rows_mask_dim = (75, 34)\n",
      "35\n",
      "cols_mask_dim = (75, 35), rows_mask_dim = (75, 35)\n",
      "36\n",
      "cols_mask_dim = (75, 36), rows_mask_dim = (75, 36)\n",
      "37\n",
      "cols_mask_dim = (75, 37), rows_mask_dim = (75, 37)\n",
      "38\n",
      "cols_mask_dim = (75, 38), rows_mask_dim = (75, 38)\n",
      "39\n",
      "cols_mask_dim = (75, 39), rows_mask_dim = (75, 39)\n",
      "40\n",
      "cols_mask_dim = (75, 40), rows_mask_dim = (75, 40)\n",
      "41\n",
      "cols_mask_dim = (75, 41), rows_mask_dim = (75, 41)\n",
      "42\n",
      "cols_mask_dim = (75, 42), rows_mask_dim = (75, 42)\n",
      "43\n",
      "cols_mask_dim = (75, 43), rows_mask_dim = (75, 43)\n",
      "44\n",
      "cols_mask_dim = (75, 44), rows_mask_dim = (75, 44)\n",
      "45\n",
      "cols_mask_dim = (75, 45), rows_mask_dim = (75, 45)\n",
      "46\n",
      "cols_mask_dim = (75, 46), rows_mask_dim = (75, 46)\n",
      "47\n",
      "cols_mask_dim = (75, 47), rows_mask_dim = (75, 47)\n",
      "48\n",
      "cols_mask_dim = (75, 48), rows_mask_dim = (75, 48)\n",
      "49\n",
      "cols_mask_dim = (75, 49), rows_mask_dim = (75, 49)\n",
      "50\n",
      "cols_mask_dim = (75, 50), rows_mask_dim = (75, 50)\n",
      "51\n",
      "cols_mask_dim = (75, 51), rows_mask_dim = (75, 51)\n",
      "52\n",
      "cols_mask_dim = (75, 52), rows_mask_dim = (75, 52)\n",
      "53\n",
      "cols_mask_dim = (75, 53), rows_mask_dim = (75, 53)\n",
      "54\n",
      "cols_mask_dim = (75, 54), rows_mask_dim = (75, 54)\n",
      "55\n",
      "cols_mask_dim = (75, 55), rows_mask_dim = (75, 55)\n",
      "56\n",
      "cols_mask_dim = (75, 56), rows_mask_dim = (75, 56)\n",
      "57\n",
      "cols_mask_dim = (75, 57), rows_mask_dim = (75, 57)\n",
      "58\n",
      "cols_mask_dim = (75, 58), rows_mask_dim = (75, 58)\n",
      "59\n",
      "cols_mask_dim = (75, 59), rows_mask_dim = (75, 59)\n",
      "60\n",
      "cols_mask_dim = (75, 60), rows_mask_dim = (75, 60)\n",
      "61\n",
      "cols_mask_dim = (75, 61), rows_mask_dim = (75, 61)\n",
      "62\n",
      "cols_mask_dim = (75, 62), rows_mask_dim = (75, 62)\n",
      "63\n",
      "cols_mask_dim = (75, 63), rows_mask_dim = (75, 63)\n",
      "64\n",
      "cols_mask_dim = (75, 64), rows_mask_dim = (75, 64)\n",
      "65\n",
      "cols_mask_dim = (75, 65), rows_mask_dim = (75, 65)\n",
      "66\n",
      "cols_mask_dim = (75, 66), rows_mask_dim = (75, 66)\n",
      "67\n",
      "cols_mask_dim = (75, 67), rows_mask_dim = (75, 67)\n",
      "68\n",
      "cols_mask_dim = (75, 68), rows_mask_dim = (75, 68)\n",
      "69\n",
      "cols_mask_dim = (75, 69), rows_mask_dim = (75, 69)\n",
      "70\n",
      "cols_mask_dim = (75, 70), rows_mask_dim = (75, 70)\n",
      "71\n",
      "cols_mask_dim = (75, 71), rows_mask_dim = (75, 71)\n",
      "72\n",
      "cols_mask_dim = (75, 72), rows_mask_dim = (75, 72)\n",
      "73\n",
      "cols_mask_dim = (75, 73), rows_mask_dim = (75, 73)\n",
      "74\n",
      "cols_mask_dim = (75, 74), rows_mask_dim = (75, 74)\n",
      "75\n",
      "cols_mask_dim = (75, 75), rows_mask_dim = (75, 75)\n",
      "76\n",
      "cols_mask_dim = (75, 75), rows_mask_dim = (75, 76)\n"
     ]
    },
    {
     "ename": "IndexError",
     "evalue": "shape mismatch: indexing arrays could not be broadcast together with shapes (75,76) (75,75) ",
     "output_type": "error",
     "traceback": [
      "\u001b[0;31m---------------------------------------------------------------------------\u001b[0m",
      "\u001b[0;31mIndexError\u001b[0m                                Traceback (most recent call last)",
      "\u001b[0;32m<ipython-input-14-b25fabad50d5>\u001b[0m in \u001b[0;36m<module>\u001b[0;34m()\u001b[0m\n\u001b[1;32m      6\u001b[0m     \u001b[0mmy_clf\u001b[0m \u001b[0;34m=\u001b[0m \u001b[0mMyKNeighborsClassifier\u001b[0m\u001b[0;34m(\u001b[0m\u001b[0mn_neighbors\u001b[0m\u001b[0;34m=\u001b[0m\u001b[0mi\u001b[0m\u001b[0;34m)\u001b[0m\u001b[0;34m\u001b[0m\u001b[0m\n\u001b[1;32m      7\u001b[0m     \u001b[0mmy_clf\u001b[0m\u001b[0;34m.\u001b[0m\u001b[0mfit\u001b[0m\u001b[0;34m(\u001b[0m\u001b[0mX_train\u001b[0m\u001b[0;34m,\u001b[0m \u001b[0my_train\u001b[0m\u001b[0;34m)\u001b[0m\u001b[0;34m\u001b[0m\u001b[0m\n\u001b[0;32m----> 8\u001b[0;31m     \u001b[0maccur\u001b[0m\u001b[0;34m.\u001b[0m\u001b[0mappend\u001b[0m\u001b[0;34m(\u001b[0m\u001b[0mmy_clf\u001b[0m\u001b[0;34m.\u001b[0m\u001b[0mscore\u001b[0m\u001b[0;34m(\u001b[0m\u001b[0mX_test\u001b[0m\u001b[0;34m,\u001b[0m \u001b[0my_test\u001b[0m\u001b[0;34m)\u001b[0m\u001b[0;34m)\u001b[0m\u001b[0;34m\u001b[0m\u001b[0m\n\u001b[0m\u001b[1;32m      9\u001b[0m \u001b[0;34m\u001b[0m\u001b[0m\n\u001b[1;32m     10\u001b[0m \u001b[0mplt\u001b[0m\u001b[0;34m.\u001b[0m\u001b[0mplot\u001b[0m\u001b[0;34m(\u001b[0m\u001b[0mneighbors\u001b[0m\u001b[0;34m,\u001b[0m \u001b[0maccur\u001b[0m\u001b[0;34m,\u001b[0m \u001b[0mcolor\u001b[0m\u001b[0;34m=\u001b[0m\u001b[0;34m\"blue\"\u001b[0m\u001b[0;34m,\u001b[0m \u001b[0mlabel\u001b[0m\u001b[0;34m=\u001b[0m\u001b[0;34m\"score\"\u001b[0m\u001b[0;34m)\u001b[0m\u001b[0;34m\u001b[0m\u001b[0m\n",
      "\u001b[0;32m<ipython-input-2-784f68231536>\u001b[0m in \u001b[0;36mscore\u001b[0;34m(self, X, y)\u001b[0m\n\u001b[1;32m     76\u001b[0m \u001b[0;34m\u001b[0m\u001b[0m\n\u001b[1;32m     77\u001b[0m     \u001b[0;32mdef\u001b[0m \u001b[0mscore\u001b[0m\u001b[0;34m(\u001b[0m\u001b[0mself\u001b[0m\u001b[0;34m,\u001b[0m \u001b[0mX\u001b[0m\u001b[0;34m,\u001b[0m \u001b[0my\u001b[0m\u001b[0;34m)\u001b[0m\u001b[0;34m:\u001b[0m\u001b[0;34m\u001b[0m\u001b[0m\n\u001b[0;32m---> 78\u001b[0;31m         \u001b[0mpredicted\u001b[0m \u001b[0;34m=\u001b[0m \u001b[0mself\u001b[0m\u001b[0;34m.\u001b[0m\u001b[0mpredict\u001b[0m\u001b[0;34m(\u001b[0m\u001b[0mX\u001b[0m\u001b[0;34m)\u001b[0m\u001b[0;34m\u001b[0m\u001b[0m\n\u001b[0m\u001b[1;32m     79\u001b[0m         \u001b[0mcnt\u001b[0m \u001b[0;34m=\u001b[0m \u001b[0;36m0.\u001b[0m\u001b[0;34m\u001b[0m\u001b[0m\n\u001b[1;32m     80\u001b[0m         \u001b[0;32mfor\u001b[0m \u001b[0mi\u001b[0m\u001b[0;34m,\u001b[0m \u001b[0mt\u001b[0m \u001b[0;32min\u001b[0m \u001b[0menumerate\u001b[0m\u001b[0;34m(\u001b[0m\u001b[0my\u001b[0m\u001b[0;34m)\u001b[0m\u001b[0;34m:\u001b[0m\u001b[0;34m\u001b[0m\u001b[0m\n",
      "\u001b[0;32m<ipython-input-2-784f68231536>\u001b[0m in \u001b[0;36mpredict\u001b[0;34m(self, X)\u001b[0m\n\u001b[1;32m     37\u001b[0m             \u001b[0mttttmp\u001b[0m \u001b[0;34m=\u001b[0m \u001b[0mnp\u001b[0m\u001b[0;34m.\u001b[0m\u001b[0mzeros\u001b[0m\u001b[0;34m(\u001b[0m\u001b[0;34m(\u001b[0m\u001b[0mfit_y_tmp\u001b[0m\u001b[0;34m.\u001b[0m\u001b[0mshape\u001b[0m\u001b[0;34m[\u001b[0m\u001b[0;36m0\u001b[0m\u001b[0;34m]\u001b[0m\u001b[0;34m,\u001b[0m \u001b[0mfit_y_tmp\u001b[0m\u001b[0;34m.\u001b[0m\u001b[0mshape\u001b[0m\u001b[0;34m[\u001b[0m\u001b[0;36m1\u001b[0m\u001b[0;34m]\u001b[0m\u001b[0;34m)\u001b[0m\u001b[0;34m)\u001b[0m\u001b[0;34m\u001b[0m\u001b[0m\n\u001b[1;32m     38\u001b[0m             \u001b[0mttttmp\u001b[0m\u001b[0;34m[\u001b[0m\u001b[0mfit_y_tmp\u001b[0m \u001b[0;34m==\u001b[0m \u001b[0mt\u001b[0m\u001b[0;34m]\u001b[0m \u001b[0;34m=\u001b[0m \u001b[0;36m1\u001b[0m\u001b[0;34m\u001b[0m\u001b[0m\n\u001b[0;32m---> 39\u001b[0;31m             \u001b[0mtttmp\u001b[0m\u001b[0;34m[\u001b[0m\u001b[0;34m:\u001b[0m\u001b[0;34m,\u001b[0m \u001b[0mi\u001b[0m\u001b[0;34m]\u001b[0m \u001b[0;34m=\u001b[0m \u001b[0mttttmp\u001b[0m\u001b[0;34m[\u001b[0m\u001b[0mrows_mask\u001b[0m\u001b[0;34m,\u001b[0m \u001b[0mcols_mask\u001b[0m\u001b[0;34m]\u001b[0m\u001b[0;34m.\u001b[0m\u001b[0msum\u001b[0m\u001b[0;34m(\u001b[0m\u001b[0maxis\u001b[0m\u001b[0;34m=\u001b[0m\u001b[0;36m1\u001b[0m\u001b[0;34m)\u001b[0m\u001b[0;34m\u001b[0m\u001b[0m\n\u001b[0m\u001b[1;32m     40\u001b[0m         \u001b[0mtttmp\u001b[0m \u001b[0;34m=\u001b[0m \u001b[0mnp\u001b[0m\u001b[0;34m.\u001b[0m\u001b[0margsort\u001b[0m\u001b[0;34m(\u001b[0m\u001b[0mtttmp\u001b[0m\u001b[0;34m,\u001b[0m \u001b[0maxis\u001b[0m\u001b[0;34m=\u001b[0m\u001b[0;36m1\u001b[0m\u001b[0;34m)\u001b[0m\u001b[0;34m\u001b[0m\u001b[0m\n\u001b[1;32m     41\u001b[0m         \u001b[0my\u001b[0m \u001b[0;34m=\u001b[0m \u001b[0mtttmp\u001b[0m\u001b[0;34m[\u001b[0m\u001b[0;34m:\u001b[0m\u001b[0;34m,\u001b[0m \u001b[0;34m-\u001b[0m\u001b[0;36m1\u001b[0m\u001b[0;34m]\u001b[0m\u001b[0;34m.\u001b[0m\u001b[0mcopy\u001b[0m\u001b[0;34m(\u001b[0m\u001b[0;34m)\u001b[0m\u001b[0;34m\u001b[0m\u001b[0m\n",
      "\u001b[0;31mIndexError\u001b[0m: shape mismatch: indexing arrays could not be broadcast together with shapes (75,76) (75,75) "
     ]
    }
   ],
   "source": [
    "# Задание 3\n",
    "neighbors = range(1, 100)\n",
    "accur = []\n",
    "for i in neighbors:\n",
    "    print(i)\n",
    "    my_clf = MyKNeighborsClassifier(n_neighbors=i)\n",
    "    my_clf.fit(X_train, y_train)\n",
    "    accur.append(my_clf.score(X_test, y_test))\n",
    "\n",
    "plt.plot(neighbors, accur, color=\"blue\", label=\"score\")\n",
    "plt.legend()\n",
    "#required n_neighbors = 2"
   ]
  },
  {
   "cell_type": "code",
   "execution_count": 108,
   "metadata": {},
   "outputs": [
    {
     "ename": "ValueError",
     "evalue": "Expected n_neighbors <= n_samples,  but n_samples = 75, n_neighbors = 76",
     "output_type": "error",
     "traceback": [
      "\u001b[0;31m---------------------------------------------------------------------------\u001b[0m",
      "\u001b[0;31mValueError\u001b[0m                                Traceback (most recent call last)",
      "\u001b[0;32m<ipython-input-108-4a9b0eadce03>\u001b[0m in \u001b[0;36m<module>\u001b[0;34m()\u001b[0m\n\u001b[1;32m      4\u001b[0m     \u001b[0mmy_clf\u001b[0m \u001b[0;34m=\u001b[0m \u001b[0mKNeighborsClassifier\u001b[0m\u001b[0;34m(\u001b[0m\u001b[0mn_neighbors\u001b[0m\u001b[0;34m=\u001b[0m\u001b[0mi\u001b[0m\u001b[0;34m)\u001b[0m\u001b[0;34m\u001b[0m\u001b[0m\n\u001b[1;32m      5\u001b[0m     \u001b[0mmy_clf\u001b[0m\u001b[0;34m.\u001b[0m\u001b[0mfit\u001b[0m\u001b[0;34m(\u001b[0m\u001b[0mX_train\u001b[0m\u001b[0;34m,\u001b[0m \u001b[0my_train\u001b[0m\u001b[0;34m)\u001b[0m\u001b[0;34m\u001b[0m\u001b[0m\n\u001b[0;32m----> 6\u001b[0;31m     \u001b[0maccur\u001b[0m\u001b[0;34m.\u001b[0m\u001b[0mappend\u001b[0m\u001b[0;34m(\u001b[0m\u001b[0mmy_clf\u001b[0m\u001b[0;34m.\u001b[0m\u001b[0mscore\u001b[0m\u001b[0;34m(\u001b[0m\u001b[0mX_test\u001b[0m\u001b[0;34m,\u001b[0m \u001b[0my_test\u001b[0m\u001b[0;34m)\u001b[0m\u001b[0;34m)\u001b[0m\u001b[0;34m\u001b[0m\u001b[0m\n\u001b[0m\u001b[1;32m      7\u001b[0m \u001b[0;34m\u001b[0m\u001b[0m\n\u001b[1;32m      8\u001b[0m \u001b[0mplt\u001b[0m\u001b[0;34m.\u001b[0m\u001b[0mplot\u001b[0m\u001b[0;34m(\u001b[0m\u001b[0mneighbors\u001b[0m\u001b[0;34m,\u001b[0m \u001b[0maccur\u001b[0m\u001b[0;34m,\u001b[0m \u001b[0mcolor\u001b[0m\u001b[0;34m=\u001b[0m\u001b[0;34m\"blue\"\u001b[0m\u001b[0;34m,\u001b[0m \u001b[0mlabel\u001b[0m\u001b[0;34m=\u001b[0m\u001b[0;34m\"score\"\u001b[0m\u001b[0;34m)\u001b[0m\u001b[0;34m\u001b[0m\u001b[0m\n",
      "\u001b[0;32m/usr/local/lib/python2.7/dist-packages/sklearn/base.pyc\u001b[0m in \u001b[0;36mscore\u001b[0;34m(self, X, y, sample_weight)\u001b[0m\n\u001b[1;32m    347\u001b[0m         \"\"\"\n\u001b[1;32m    348\u001b[0m         \u001b[0;32mfrom\u001b[0m \u001b[0;34m.\u001b[0m\u001b[0mmetrics\u001b[0m \u001b[0;32mimport\u001b[0m \u001b[0maccuracy_score\u001b[0m\u001b[0;34m\u001b[0m\u001b[0m\n\u001b[0;32m--> 349\u001b[0;31m         \u001b[0;32mreturn\u001b[0m \u001b[0maccuracy_score\u001b[0m\u001b[0;34m(\u001b[0m\u001b[0my\u001b[0m\u001b[0;34m,\u001b[0m \u001b[0mself\u001b[0m\u001b[0;34m.\u001b[0m\u001b[0mpredict\u001b[0m\u001b[0;34m(\u001b[0m\u001b[0mX\u001b[0m\u001b[0;34m)\u001b[0m\u001b[0;34m,\u001b[0m \u001b[0msample_weight\u001b[0m\u001b[0;34m=\u001b[0m\u001b[0msample_weight\u001b[0m\u001b[0;34m)\u001b[0m\u001b[0;34m\u001b[0m\u001b[0m\n\u001b[0m\u001b[1;32m    350\u001b[0m \u001b[0;34m\u001b[0m\u001b[0m\n\u001b[1;32m    351\u001b[0m \u001b[0;34m\u001b[0m\u001b[0m\n",
      "\u001b[0;32m/usr/local/lib/python2.7/dist-packages/sklearn/neighbors/classification.pyc\u001b[0m in \u001b[0;36mpredict\u001b[0;34m(self, X)\u001b[0m\n\u001b[1;32m    143\u001b[0m         \u001b[0mX\u001b[0m \u001b[0;34m=\u001b[0m \u001b[0mcheck_array\u001b[0m\u001b[0;34m(\u001b[0m\u001b[0mX\u001b[0m\u001b[0;34m,\u001b[0m \u001b[0maccept_sparse\u001b[0m\u001b[0;34m=\u001b[0m\u001b[0;34m'csr'\u001b[0m\u001b[0;34m)\u001b[0m\u001b[0;34m\u001b[0m\u001b[0m\n\u001b[1;32m    144\u001b[0m \u001b[0;34m\u001b[0m\u001b[0m\n\u001b[0;32m--> 145\u001b[0;31m         \u001b[0mneigh_dist\u001b[0m\u001b[0;34m,\u001b[0m \u001b[0mneigh_ind\u001b[0m \u001b[0;34m=\u001b[0m \u001b[0mself\u001b[0m\u001b[0;34m.\u001b[0m\u001b[0mkneighbors\u001b[0m\u001b[0;34m(\u001b[0m\u001b[0mX\u001b[0m\u001b[0;34m)\u001b[0m\u001b[0;34m\u001b[0m\u001b[0m\n\u001b[0m\u001b[1;32m    146\u001b[0m \u001b[0;34m\u001b[0m\u001b[0m\n\u001b[1;32m    147\u001b[0m         \u001b[0mclasses_\u001b[0m \u001b[0;34m=\u001b[0m \u001b[0mself\u001b[0m\u001b[0;34m.\u001b[0m\u001b[0mclasses_\u001b[0m\u001b[0;34m\u001b[0m\u001b[0m\n",
      "\u001b[0;32m/usr/local/lib/python2.7/dist-packages/sklearn/neighbors/base.pyc\u001b[0m in \u001b[0;36mkneighbors\u001b[0;34m(self, X, n_neighbors, return_distance)\u001b[0m\n\u001b[1;32m    345\u001b[0m                 \u001b[0;34m\"Expected n_neighbors <= n_samples, \"\u001b[0m\u001b[0;34m\u001b[0m\u001b[0m\n\u001b[1;32m    346\u001b[0m                 \u001b[0;34m\" but n_samples = %d, n_neighbors = %d\"\u001b[0m \u001b[0;34m%\u001b[0m\u001b[0;34m\u001b[0m\u001b[0m\n\u001b[0;32m--> 347\u001b[0;31m                 \u001b[0;34m(\u001b[0m\u001b[0mtrain_size\u001b[0m\u001b[0;34m,\u001b[0m \u001b[0mn_neighbors\u001b[0m\u001b[0;34m)\u001b[0m\u001b[0;34m\u001b[0m\u001b[0m\n\u001b[0m\u001b[1;32m    348\u001b[0m             )\n\u001b[1;32m    349\u001b[0m         \u001b[0mn_samples\u001b[0m\u001b[0;34m,\u001b[0m \u001b[0m_\u001b[0m \u001b[0;34m=\u001b[0m \u001b[0mX\u001b[0m\u001b[0;34m.\u001b[0m\u001b[0mshape\u001b[0m\u001b[0;34m\u001b[0m\u001b[0m\n",
      "\u001b[0;31mValueError\u001b[0m: Expected n_neighbors <= n_samples,  but n_samples = 75, n_neighbors = 76"
     ]
    }
   ],
   "source": [
    "neighbors = range(1, 100)\n",
    "accur = []\n",
    "for i in neighbors:\n",
    "    my_clf = KNeighborsClassifier(n_neighbors=i)\n",
    "    my_clf.fit(X_train, y_train)\n",
    "    accur.append(my_clf.score(X_test, y_test))\n",
    "\n",
    "plt.plot(neighbors, accur, color=\"blue\", label=\"score\")\n",
    "plt.legend()"
   ]
  },
  {
   "cell_type": "markdown",
   "metadata": {},
   "source": [
    "**MNIST**"
   ]
  },
  {
   "cell_type": "code",
   "execution_count": 3,
   "metadata": {},
   "outputs": [],
   "source": [
    "mnist = fetch_mldata('MNIST original')"
   ]
  },
  {
   "cell_type": "code",
   "execution_count": 4,
   "metadata": {},
   "outputs": [],
   "source": [
    "X_train, X_test, y_train, y_test = train_test_split(mnist.data, mnist.target, test_size=0.0002, stratify=mnist.target)"
   ]
  },
  {
   "cell_type": "code",
   "execution_count": 5,
   "metadata": {},
   "outputs": [],
   "source": [
    "clf = KNeighborsClassifier(n_neighbors=2)\n",
    "my_clf = MyKNeighborsClassifier(n_neighbors=2)"
   ]
  },
  {
   "cell_type": "code",
   "execution_count": 6,
   "metadata": {},
   "outputs": [
    {
     "name": "stdout",
     "output_type": "stream",
     "text": [
      "CPU times: user 45.1 s, sys: 185 ms, total: 45.3 s\n",
      "Wall time: 45.3 s\n"
     ]
    },
    {
     "data": {
      "text/plain": [
       "KNeighborsClassifier(algorithm='auto', leaf_size=30, metric='minkowski',\n",
       "           metric_params=None, n_jobs=1, n_neighbors=2, p=2,\n",
       "           weights='uniform')"
      ]
     },
     "execution_count": 6,
     "metadata": {},
     "output_type": "execute_result"
    }
   ],
   "source": [
    "%time clf.fit(X_train, y_train)"
   ]
  },
  {
   "cell_type": "code",
   "execution_count": 7,
   "metadata": {},
   "outputs": [
    {
     "name": "stdout",
     "output_type": "stream",
     "text": [
      "CPU times: user 38.2 ms, sys: 28 ms, total: 66.2 ms\n",
      "Wall time: 65.3 ms\n"
     ]
    }
   ],
   "source": [
    "%time my_clf.fit(X_train, y_train)"
   ]
  },
  {
   "cell_type": "code",
   "execution_count": 8,
   "metadata": {},
   "outputs": [
    {
     "name": "stdout",
     "output_type": "stream",
     "text": [
      "CPU times: user 2.24 s, sys: 3.95 ms, total: 2.25 s\n",
      "Wall time: 2.25 s\n"
     ]
    },
    {
     "data": {
      "text/plain": [
       "array([3., 0., 2., 4., 1., 1., 7., 9., 8., 7., 6., 2., 3., 5.])"
      ]
     },
     "execution_count": 8,
     "metadata": {},
     "output_type": "execute_result"
    }
   ],
   "source": [
    "%time clf.predict(X_test)"
   ]
  },
  {
   "cell_type": "code",
   "execution_count": 9,
   "metadata": {},
   "outputs": [
    {
     "name": "stdout",
     "output_type": "stream",
     "text": [
      "cols_mask_dim = (14, 2), rows_mask_dim = (14, 2)\n",
      "CPU times: user 2.2 s, sys: 2.29 s, total: 4.49 s\n",
      "Wall time: 6.38 s\n"
     ]
    },
    {
     "data": {
      "text/plain": [
       "array([7., 3., 7., 1., 1., 1., 7., 7., 2., 4., 1., 7., 7., 5.])"
      ]
     },
     "execution_count": 9,
     "metadata": {},
     "output_type": "execute_result"
    }
   ],
   "source": [
    "%time my_clf.predict(X_test)"
   ]
  },
  {
   "cell_type": "code",
   "execution_count": 10,
   "metadata": {},
   "outputs": [
    {
     "name": "stdout",
     "output_type": "stream",
     "text": [
      "CPU times: user 2.31 s, sys: 125 ms, total: 2.44 s\n",
      "Wall time: 3.08 s\n"
     ]
    },
    {
     "data": {
      "text/plain": [
       "array([[0., 0., 0., 1., 0., 0., 0., 0., 0., 0.],\n",
       "       [1., 0., 0., 0., 0., 0., 0., 0., 0., 0.],\n",
       "       [0., 0., 1., 0., 0., 0., 0., 0., 0., 0.],\n",
       "       [0., 0., 0., 0., 1., 0., 0., 0., 0., 0.],\n",
       "       [0., 1., 0., 0., 0., 0., 0., 0., 0., 0.],\n",
       "       [0., 1., 0., 0., 0., 0., 0., 0., 0., 0.],\n",
       "       [0., 0., 0., 0., 0., 0., 0., 1., 0., 0.],\n",
       "       [0., 0., 0., 0., 0., 0., 0., 0., 0., 1.],\n",
       "       [0., 0., 0., 0., 0., 0., 0., 0., 1., 0.],\n",
       "       [0., 0., 0., 0., 0., 0., 0., 1., 0., 0.],\n",
       "       [0., 0., 0., 0., 0., 0., 1., 0., 0., 0.],\n",
       "       [0., 0., 1., 0., 0., 0., 0., 0., 0., 0.],\n",
       "       [0., 0., 0., 1., 0., 0., 0., 0., 0., 0.],\n",
       "       [0., 0., 0., 0., 0., 1., 0., 0., 0., 0.]])"
      ]
     },
     "execution_count": 10,
     "metadata": {},
     "output_type": "execute_result"
    }
   ],
   "source": [
    "%time clf.predict_proba(X_test)"
   ]
  },
  {
   "cell_type": "code",
   "execution_count": 11,
   "metadata": {},
   "outputs": [
    {
     "name": "stdout",
     "output_type": "stream",
     "text": [
      "CPU times: user 2.11 s, sys: 1.47 s, total: 3.57 s\n",
      "Wall time: 3.75 s\n"
     ]
    },
    {
     "data": {
      "text/plain": [
       "array([[0.5, 0. , 0. , 0. , 0. , 0. , 0. , 0.5, 0. , 0. ],\n",
       "       [0. , 0. , 0. , 0.5, 0.5, 0. , 0. , 0. , 0. , 0. ],\n",
       "       [0. , 0. , 0. , 0. , 0. , 0. , 0. , 1. , 0. , 0. ],\n",
       "       [0. , 1. , 0. , 0. , 0. , 0. , 0. , 0. , 0. , 0. ],\n",
       "       [0. , 1. , 0. , 0. , 0. , 0. , 0. , 0. , 0. , 0. ],\n",
       "       [0. , 1. , 0. , 0. , 0. , 0. , 0. , 0. , 0. , 0. ],\n",
       "       [0. , 0.5, 0. , 0. , 0. , 0. , 0. , 0.5, 0. , 0. ],\n",
       "       [0. , 0. , 0. , 0. , 0. , 0. , 0. , 0.5, 0. , 0.5],\n",
       "       [0.5, 0. , 0.5, 0. , 0. , 0. , 0. , 0. , 0. , 0. ],\n",
       "       [0. , 0.5, 0. , 0. , 0.5, 0. , 0. , 0. , 0. , 0. ],\n",
       "       [0. , 1. , 0. , 0. , 0. , 0. , 0. , 0. , 0. , 0. ],\n",
       "       [0. , 0. , 0.5, 0. , 0. , 0. , 0. , 0.5, 0. , 0. ],\n",
       "       [0. , 0.5, 0. , 0. , 0. , 0. , 0. , 0.5, 0. , 0. ],\n",
       "       [0. , 0.5, 0. , 0. , 0. , 0.5, 0. , 0. , 0. , 0. ]])"
      ]
     },
     "execution_count": 11,
     "metadata": {},
     "output_type": "execute_result"
    }
   ],
   "source": [
    "%time my_clf.predict_proba(X_test)"
   ]
  },
  {
   "cell_type": "code",
   "execution_count": 12,
   "metadata": {},
   "outputs": [
    {
     "data": {
      "text/plain": [
       "1.0"
      ]
     },
     "execution_count": 12,
     "metadata": {},
     "output_type": "execute_result"
    }
   ],
   "source": [
    "clf.score(X_test, y_test)"
   ]
  },
  {
   "cell_type": "code",
   "execution_count": 13,
   "metadata": {},
   "outputs": [
    {
     "name": "stdout",
     "output_type": "stream",
     "text": [
      "cols_mask_dim = (14, 2), rows_mask_dim = (14, 2)\n"
     ]
    },
    {
     "data": {
      "text/plain": [
       "0.2857142857142857"
      ]
     },
     "execution_count": 13,
     "metadata": {},
     "output_type": "execute_result"
    }
   ],
   "source": [
    "my_clf.score(X_test, y_test)"
   ]
  },
  {
   "cell_type": "markdown",
   "metadata": {},
   "source": [
    "Задание 5"
   ]
  },
  {
   "cell_type": "code",
   "execution_count": 1,
   "metadata": {},
   "outputs": [],
   "source": [
    "# seaborn визуализация статистических данных\n",
    "# matplotlib построение графиков\n",
    "# train_test_split разбиение выборки на тестовую и обучающую\n",
    "# Pipelin%load_ext e (from sklearn.pipeline import Pipeline) ? (выполнение операций в определенной последовательности)\n",
    "# StandardScaler (from sklearn.preprocessing import StandardScaler) приводит выборку к нулевому матожиданию и единичной дисперсии\n",
    "# ClassifierMixin базовый класс классификаторов в sklearn\n",
    "# NeighborsBase базовый класс метода ближайших соседей\n",
    "# KNeighborsMixin загружает обучающую выборку для метода k-ближайших соседей\n",
    "# SupervisedIntegerMixin загружает обучающую выборку "
   ]
  }
 ],
 "metadata": {
  "kernelspec": {
   "display_name": "Python 2",
   "language": "python",
   "name": "python2"
  },
  "language_info": {
   "codemirror_mode": {
    "name": "ipython",
    "version": 2
   },
   "file_extension": ".py",
   "mimetype": "text/x-python",
   "name": "python",
   "nbconvert_exporter": "python",
   "pygments_lexer": "ipython2",
   "version": "2.7.12"
  }
 },
 "nbformat": 4,
 "nbformat_minor": 2
}
